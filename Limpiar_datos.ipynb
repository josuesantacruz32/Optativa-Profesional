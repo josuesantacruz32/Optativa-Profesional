{
  "nbformat": 4,
  "nbformat_minor": 0,
  "metadata": {
    "colab": {
      "provenance": [],
      "authorship_tag": "ABX9TyNf3CoWuMyJ/RuVtYwwP2u0",
      "include_colab_link": true
    },
    "kernelspec": {
      "name": "python3",
      "display_name": "Python 3"
    },
    "language_info": {
      "name": "python"
    }
  },
  "cells": [
    {
      "cell_type": "markdown",
      "metadata": {
        "id": "view-in-github",
        "colab_type": "text"
      },
      "source": [
        "<a href=\"https://colab.research.google.com/github/josuesantacruz32/Optativa-Profesional/blob/main/Limpiar_datos.ipynb\" target=\"_parent\"><img src=\"https://colab.research.google.com/assets/colab-badge.svg\" alt=\"Open In Colab\"/></a>"
      ]
    },
    {
      "cell_type": "code",
      "execution_count": 4,
      "metadata": {
        "id": "6DQRTkssoACd"
      },
      "outputs": [],
      "source": [
        "import pandas as pd\n",
        "import numpy as np"
      ]
    },
    {
      "cell_type": "markdown",
      "source": [
        "Crear un dataframe con datos sucios\n"
      ],
      "metadata": {
        "id": "htHZRzxVo1e_"
      }
    },
    {
      "cell_type": "markdown",
      "source": [],
      "metadata": {
        "id": "hBip-Liho5Uz"
      }
    },
    {
      "cell_type": "code",
      "source": [
        "df = pd.DataFrame({\n",
        "    'A': [1, 2, np.nan, 4, 5],\n",
        "    'B': [5,6,7, np.nan, 9],\n",
        "    'C': ['a', 'b', 'c', 'd', 'e'],\n",
        "    'D': ['foo', 'bar', 'foo', 'bar', 'foo']\n",
        "})\n",
        "\n",
        "print(\"DataFrame original:\")\n",
        "print(df)"
      ],
      "metadata": {
        "colab": {
          "base_uri": "https://localhost:8080/"
        },
        "id": "dElpMiGIo6DF",
        "outputId": "d66b6a4e-cbb1-4e02-8876-734444903f73"
      },
      "execution_count": 5,
      "outputs": [
        {
          "output_type": "stream",
          "name": "stdout",
          "text": [
            "DataFrame original:\n",
            "     A    B  C    D\n",
            "0  1.0  5.0  a  foo\n",
            "1  2.0  6.0  b  bar\n",
            "2  NaN  7.0  c  foo\n",
            "3  4.0  NaN  d  bar\n",
            "4  5.0  9.0  e  foo\n"
          ]
        }
      ]
    },
    {
      "cell_type": "markdown",
      "source": [
        "Eliminar filas con valores nulos\n"
      ],
      "metadata": {
        "id": "qd2jzL8-qP96"
      }
    },
    {
      "cell_type": "code",
      "source": [
        "df_clean = df.dropna()\n",
        "print(\"\\nDataFrame sin filas con valores nulos:\")\n",
        "print(df_clean)"
      ],
      "metadata": {
        "colab": {
          "base_uri": "https://localhost:8080/"
        },
        "id": "BPa6MeM4qT8H",
        "outputId": "883e02a9-c65d-411d-c4d3-540a061e7dd8"
      },
      "execution_count": 6,
      "outputs": [
        {
          "output_type": "stream",
          "name": "stdout",
          "text": [
            "\n",
            "DataFrame sin filas con valores nulos:\n",
            "     A    B  C    D\n",
            "0  1.0  5.0  a  foo\n",
            "1  2.0  6.0  b  bar\n",
            "4  5.0  9.0  e  foo\n"
          ]
        }
      ]
    },
    {
      "cell_type": "markdown",
      "source": [
        "Rellenar valores nulos"
      ],
      "metadata": {
        "id": "BcWeHIBqrKhg"
      }
    },
    {
      "cell_type": "code",
      "source": [
        "df_filled = df.fillna(value={'A': df['A'].mean(), 'B': df['B'].median()})\n",
        "print(\"\\nDataFrame con valores nulos rellenados:\")\n",
        "print(df_filled)"
      ],
      "metadata": {
        "colab": {
          "base_uri": "https://localhost:8080/"
        },
        "id": "ImWRvXVCrMZc",
        "outputId": "bd5bf9cd-269b-488b-e6e7-763bf840b9e1"
      },
      "execution_count": 7,
      "outputs": [
        {
          "output_type": "stream",
          "name": "stdout",
          "text": [
            "\n",
            "DataFrame con valores nulos rellenados:\n",
            "     A    B  C    D\n",
            "0  1.0  5.0  a  foo\n",
            "1  2.0  6.0  b  bar\n",
            "2  3.0  7.0  c  foo\n",
            "3  4.0  6.5  d  bar\n",
            "4  5.0  9.0  e  foo\n"
          ]
        }
      ]
    },
    {
      "cell_type": "markdown",
      "source": [
        "Eliminar Duplicados"
      ],
      "metadata": {
        "id": "_hFavYMBsa3G"
      }
    },
    {
      "cell_type": "code",
      "source": [
        "df_no_duplicates = df.drop_duplicates(subset =['D'])\n",
        "print(\"\\nDataFrame sin filas duplicadas:\")\n",
        "print(df_no_duplicates)"
      ],
      "metadata": {
        "colab": {
          "base_uri": "https://localhost:8080/"
        },
        "id": "s1M04LPvsdDP",
        "outputId": "bd792273-1f4b-43a4-8b44-ef75a0edaf4b"
      },
      "execution_count": 8,
      "outputs": [
        {
          "output_type": "stream",
          "name": "stdout",
          "text": [
            "\n",
            "DataFrame sin filas duplicadas:\n",
            "     A    B  C    D\n",
            "0  1.0  5.0  a  foo\n",
            "1  2.0  6.0  b  bar\n"
          ]
        }
      ]
    },
    {
      "cell_type": "markdown",
      "source": [
        "Renombrar columnas"
      ],
      "metadata": {
        "id": "cO0_ribUuQwK"
      }
    },
    {
      "cell_type": "code",
      "source": [
        "df_renamed = df.rename(columns={'A': 'Alpha' , 'B': 'Beta', 'C': 'Charlie', 'D': 'Delta'})\n",
        "print(\"\\nDataFrame con nombres de columnas cambiados:\")\n",
        "print(df_renamed)"
      ],
      "metadata": {
        "colab": {
          "base_uri": "https://localhost:8080/"
        },
        "id": "c3SXyr3pufhm",
        "outputId": "895e88e0-39c3-4fad-e2a6-e09107b34aec"
      },
      "execution_count": 9,
      "outputs": [
        {
          "output_type": "stream",
          "name": "stdout",
          "text": [
            "\n",
            "DataFrame con nombres de columnas cambiados:\n",
            "   Alpha  Beta Charlie Delta\n",
            "0    1.0   5.0       a   foo\n",
            "1    2.0   6.0       b   bar\n",
            "2    NaN   7.0       c   foo\n",
            "3    4.0   NaN       d   bar\n",
            "4    5.0   9.0       e   foo\n"
          ]
        }
      ]
    }
  ]
}