{
  "nbformat": 4,
  "nbformat_minor": 0,
  "metadata": {
    "colab": {
      "provenance": [],
      "authorship_tag": "ABX9TyNkyMfqE860LEm/QOB0P+9e",
      "include_colab_link": true
    },
    "kernelspec": {
      "name": "python3",
      "display_name": "Python 3"
    },
    "language_info": {
      "name": "python"
    }
  },
  "cells": [
    {
      "cell_type": "markdown",
      "metadata": {
        "id": "view-in-github",
        "colab_type": "text"
      },
      "source": [
        "<a href=\"https://colab.research.google.com/github/josuesantacruz32/Optativa-Profesional/blob/main/operaciones_basicas.ipynb\" target=\"_parent\"><img src=\"https://colab.research.google.com/assets/colab-badge.svg\" alt=\"Open In Colab\"/></a>"
      ]
    },
    {
      "cell_type": "code",
      "execution_count": 1,
      "metadata": {
        "id": "udohqDXEvfpW"
      },
      "outputs": [],
      "source": [
        "import pandas as pd"
      ]
    },
    {
      "cell_type": "code",
      "source": [
        "df = pd.DataFrame({\n",
        "    'Nombre':['Ana', 'Juan', 'Maria', 'Carlos', 'Sofia'],\n",
        "    'Edad':[25,30,22,28,35],\n",
        "    'Cuidad':['Madrid','Barcelona','Madrid','Valencia', 'Barcelona'],\n",
        "    'Puntuacion':[85,92,78,95,88]\n",
        "})\n",
        "\n",
        "print(\"DataFrame original:\")\n",
        "print(df)"
      ],
      "metadata": {
        "colab": {
          "base_uri": "https://localhost:8080/"
        },
        "id": "heu2zmylvn54",
        "outputId": "4c508429-4074-4806-907b-052a98c6d978"
      },
      "execution_count": 3,
      "outputs": [
        {
          "output_type": "stream",
          "name": "stdout",
          "text": [
            "DataFrame original:\n",
            "   Nombre  Edad     Cuidad  Puntuacion\n",
            "0     Ana    25     Madrid          85\n",
            "1    Juan    30  Barcelona          92\n",
            "2   Maria    22     Madrid          78\n",
            "3  Carlos    28   Valencia          95\n",
            "4   Sofia    35  Barcelona          88\n"
          ]
        }
      ]
    },
    {
      "cell_type": "markdown",
      "source": [
        "Filtrado"
      ],
      "metadata": {
        "id": "AFWjYISZwsa5"
      }
    },
    {
      "cell_type": "code",
      "source": [
        "mayores_25 = df[df['Edad'] > 25]\n",
        "print(\"\\nPersonas mayores de 25 años:\")\n",
        "print(mayores_25)"
      ],
      "metadata": {
        "colab": {
          "base_uri": "https://localhost:8080/"
        },
        "id": "4ftsiizmwtd7",
        "outputId": "56a00f90-eab3-4e76-b282-307dc7cf3c83"
      },
      "execution_count": 4,
      "outputs": [
        {
          "output_type": "stream",
          "name": "stdout",
          "text": [
            "\n",
            "Personas mayores de 25 años:\n",
            "   Nombre  Edad     Cuidad  Puntuacion\n",
            "1    Juan    30  Barcelona          92\n",
            "3  Carlos    28   Valencia          95\n",
            "4   Sofia    35  Barcelona          88\n"
          ]
        }
      ]
    },
    {
      "cell_type": "markdown",
      "source": [
        "Agrupacion y agregacion"
      ],
      "metadata": {
        "id": "3t7sJJ_1xVeE"
      }
    },
    {
      "cell_type": "code",
      "source": [
        "resultado = df[df['Edad'] > 25].groupby('Cuidad')['Puntuacion'].max()\n",
        "print(\"\\nPromedio de puntuacion por cuidad para personas mayores de 25 años:\")\n",
        "print(resultado)"
      ],
      "metadata": {
        "colab": {
          "base_uri": "https://localhost:8080/"
        },
        "id": "yK3wK135xYpm",
        "outputId": "f2a897a2-6767-482c-d6b6-3767b1e7969d"
      },
      "execution_count": 5,
      "outputs": [
        {
          "output_type": "stream",
          "name": "stdout",
          "text": [
            "\n",
            "Promedio de puntuacion por cuidad para personas mayores de 25 años:\n",
            "Cuidad\n",
            "Barcelona    92\n",
            "Valencia     95\n",
            "Name: Puntuacion, dtype: int64\n"
          ]
        }
      ]
    }
  ]
}